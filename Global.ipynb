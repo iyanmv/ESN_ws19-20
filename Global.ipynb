{
 "cells": [
  {
   "cell_type": "code",
   "execution_count": 1,
   "metadata": {},
   "outputs": [],
   "source": [
    "import numpy as np"
   ]
  },
  {
   "cell_type": "code",
   "execution_count": 2,
   "metadata": {},
   "outputs": [],
   "source": [
    "population = 6e9\n",
    "population_germany = 82e6\n",
    "germany_energy_consuption = 3777e12"
   ]
  },
  {
   "cell_type": "markdown",
   "metadata": {},
   "source": [
    "### Worldwide generation from hydropower (2018)\n",
    "*Source*: [Renewables 2019 Global Status Report](https://www.ren21.net/wp-content/uploads/2019/05/gsr_2019_full_report_en.pdf) (p.22)"
   ]
  },
  {
   "cell_type": "code",
   "execution_count": 3,
   "metadata": {},
   "outputs": [
    {
     "name": "stdout",
     "output_type": "stream",
     "text": [
      "Wordlwide generation from hydropower = 1.7 kWh/p/d\n",
      "This can provide enough energy to 1.11 Germanies\n"
     ]
    }
   ],
   "source": [
    "energy_hydro = 4210e12 # 4210 TWh\n",
    "energy_hydro_p_d = germany_energy_consuption / population / 365 / 1e3\n",
    "print(\"Wordlwide generation from hydropower = {:.1f} kWh/p/d\".format(energy_hydro_p_d))\n",
    "print(\"This can provide enough energy to {:.2f} Germanies\".format(energy_hydro/germany_energy_consuption))"
   ]
  },
  {
   "cell_type": "markdown",
   "metadata": {},
   "source": [
    "### Hydropower capacity in the World and Germany (2018)\n",
    "*Sources*:\n",
    " * [Renewables 2019 Global Status Report](https://www.ren21.net/wp-content/uploads/2019/05/gsr_2019_full_report_en.pdf) (p.22)\n",
    " * [International Hydropower Association](https://www.hydropower.org/country-profiles/germany)"
   ]
  },
  {
   "cell_type": "code",
   "execution_count": 4,
   "metadata": {},
   "outputs": [
    {
     "name": "stdout",
     "output_type": "stream",
     "text": [
      "Germany hydropower capacity accounts for a ~1.0% of the world capacity\n"
     ]
    }
   ],
   "source": [
    "total_hydropower_capacity = 1132e9 # 1132 GW\n",
    "german_hydropower_capacity = 11258e6 # 11258 MW\n",
    "print(\"Germany hydropower capacity accounts for a ~{:.1f}% of the world capacity\".format(\\\n",
    "german_hydropower_capacity/total_hydropower_capacity*100))"
   ]
  }
 ],
 "metadata": {
  "kernelspec": {
   "display_name": "Python 3",
   "language": "python",
   "name": "python3"
  },
  "language_info": {
   "codemirror_mode": {
    "name": "ipython",
    "version": 3
   },
   "file_extension": ".py",
   "mimetype": "text/x-python",
   "name": "python",
   "nbconvert_exporter": "python",
   "pygments_lexer": "ipython3",
   "version": "3.8.1"
  }
 },
 "nbformat": 4,
 "nbformat_minor": 4
}
